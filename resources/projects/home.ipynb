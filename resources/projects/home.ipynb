{
 "cells": [
  {
   "cell_type": "markdown",
   "metadata": {},
   "source": [
    "# Spark Laboratory"
   ]
  },
  {
   "cell_type": "markdown",
   "metadata": {},
   "source": [
    "This laboratory consists of a Jupyter server with Spark on it and a Spark cluster that can be started with multiple workers.  To view the status of the cluster, visit [http://localhost:8080/](http://localhost:8080/).  The cluster is available at `spark://master:7077`.\n",
    "\n",
    "To start the cluster with multiple works, use the `--scale` option for docker-compose.  To launch with 3 workers, do this:\n",
    "\n",
    "```\n",
    "docker-compose up --scale worker=3\n",
    "```\n",
    "\n",
    "Don't forget to shut down the laboratory when you are done so that you don't waste your machine resources:\n",
    "\n",
    "```\n",
    "docker-compose down\n",
    "```"
   ]
  },
  {
   "cell_type": "markdown",
   "metadata": {},
   "source": [
    "## Projects\n",
    "\n",
    "* [Machine Learning on Spark](machine-learning/machine-learning.ipynb)"
   ]
  },
  {
   "cell_type": "code",
   "execution_count": null,
   "metadata": {},
   "outputs": [],
   "source": []
  }
 ],
 "metadata": {
  "kernelspec": {
   "display_name": "Python 3",
   "language": "python",
   "name": "python3"
  },
  "language_info": {
   "codemirror_mode": {
    "name": "ipython",
    "version": 3
   },
   "file_extension": ".py",
   "mimetype": "text/x-python",
   "name": "python",
   "nbconvert_exporter": "python",
   "pygments_lexer": "ipython3",
   "version": "3.8.5"
  }
 },
 "nbformat": 4,
 "nbformat_minor": 4
}
